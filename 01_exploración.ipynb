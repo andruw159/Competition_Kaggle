{
  "nbformat": 4,
  "nbformat_minor": 0,
  "metadata": {
    "colab": {
      "provenance": [],
      "collapsed_sections": [
        "uGcumXd7IrU6",
        "zoONzHfSIdBz",
        "d99IFBRkIYqA",
        "G54jJe9WHltS"
      ],
      "include_colab_link": true
    },
    "kernelspec": {
      "name": "python3",
      "display_name": "Python 3"
    },
    "language_info": {
      "name": "python"
    }
  },
  "cells": [
    {
      "cell_type": "markdown",
      "metadata": {
        "id": "view-in-github",
        "colab_type": "text"
      },
      "source": [
        "<a href=\"https://colab.research.google.com/github/andruw159/Competition_Kaggle/blob/main/01_exploraci%C3%B3n.ipynb\" target=\"_parent\"><img src=\"https://colab.research.google.com/assets/colab-badge.svg\" alt=\"Open In Colab\"/></a>"
      ]
    },
    {
      "cell_type": "markdown",
      "source": [
        "##Carga de datos"
      ],
      "metadata": {
        "id": "uMTb822w9xXv"
      }
    },
    {
      "cell_type": "code",
      "source": [
        "!wget --no-cache -O init.py -q https://raw.githubusercontent.com/rramosp/ai4eng.v1/main/content/init.py\n",
        "import init; init.init(force_download=False); init.get_weblink()"
      ],
      "metadata": {
        "colab": {
          "base_uri": "https://localhost:8080/",
          "height": 75
        },
        "id": "XmfWGSNP-PRf",
        "outputId": "0467fb95-353d-448b-806b-b04c08758f9d"
      },
      "execution_count": 1,
      "outputs": [
        {
          "output_type": "display_data",
          "data": {
            "text/plain": [
              "<IPython.core.display.HTML object>"
            ],
            "text/html": [
              "\n",
              "<meta name=\"google-signin-client_id\"\n",
              "      content=\"461673936472-kdjosv61up3ac1ajeuq6qqu72upilmls.apps.googleusercontent.com\"/>\n",
              "<script src=\"https://apis.google.com/js/client:platform.js?onload=google_button_start\"></script>\n",
              "    "
            ]
          },
          "metadata": {}
        },
        {
          "output_type": "stream",
          "name": "stdout",
          "text": [
            "replicating local resources\n"
          ]
        },
        {
          "output_type": "execute_result",
          "data": {
            "text/plain": [
              "<IPython.core.display.HTML object>"
            ],
            "text/html": [
              "<h3>See <a href='https://m5knaekxo6.execute-api.us-west-2.amazonaws.com/dev-v0001/rlxmooc/web/login' target='_blank'>my courses and progress</a></h2>"
            ]
          },
          "metadata": {},
          "execution_count": 1
        }
      ]
    },
    {
      "cell_type": "code",
      "execution_count": 2,
      "metadata": {
        "id": "O1w41lU08t3q",
        "colab": {
          "base_uri": "https://localhost:8080/"
        },
        "outputId": "c7d74a55-65e9-4c5c-e05a-c9422d531d34"
      },
      "outputs": [
        {
          "output_type": "stream",
          "name": "stderr",
          "text": [
            "/content/local/lib/mlutils.py:445: SyntaxWarning: invalid escape sequence '\\m'\n",
            "  time_str = \"fit time  (TRAIN)    %.2f $\\mu$secs\"%(fitting_time*1000)\n"
          ]
        }
      ],
      "source": [
        "import numpy as np\n",
        "import matplotlib.pyplot as plt\n",
        "import tensorflow as tf\n",
        "from sklearn.metrics import accuracy_score\n",
        "from sklearn.model_selection import train_test_split\n",
        "import local.lib.mlutils\n",
        "import pandas as pd\n",
        "from tensorflow.keras import Sequential\n",
        "from tensorflow.keras.layers import Dense, Dropout, Flatten\n",
        "%matplotlib inline"
      ]
    },
    {
      "cell_type": "code",
      "source": [
        "train = pd.read_csv(\"train.csv\")\n",
        "print (train.shape)"
      ],
      "metadata": {
        "id": "JvcIOjD1-eh1",
        "colab": {
          "base_uri": "https://localhost:8080/"
        },
        "outputId": "f6e52352-281f-421b-9506-e1570ea0805b"
      },
      "execution_count": 3,
      "outputs": [
        {
          "output_type": "stream",
          "name": "stdout",
          "text": [
            "(692500, 21)\n"
          ]
        }
      ]
    },
    {
      "cell_type": "code",
      "source": [
        "train.head()"
      ],
      "metadata": {
        "colab": {
          "base_uri": "https://localhost:8080/",
          "height": 411
        },
        "id": "1DjesoNX_IIl",
        "outputId": "3958308f-2ca5-4293-b91f-198fc610780d"
      },
      "execution_count": 4,
      "outputs": [
        {
          "output_type": "execute_result",
          "data": {
            "text/plain": [
              "       ID  PERIODO_ACADEMICO            E_PRGM_ACADEMICO E_PRGM_DEPARTAMENTO  \\\n",
              "0  904256              20212                  ENFERMERIA              BOGOTÁ   \n",
              "1  645256              20212                     DERECHO           ATLANTICO   \n",
              "2  308367              20203       MERCADEO Y PUBLICIDAD              BOGOTÁ   \n",
              "3  470353              20195  ADMINISTRACION DE EMPRESAS           SANTANDER   \n",
              "4  989032              20212                  PSICOLOGIA           ANTIOQUIA   \n",
              "\n",
              "                E_VALORMATRICULAUNIVERSIDAD E_HORASSEMANATRABAJA  \\\n",
              "0  Entre 5.5 millones y menos de 7 millones    Menos de 10 horas   \n",
              "1  Entre 2.5 millones y menos de 4 millones                    0   \n",
              "2  Entre 2.5 millones y menos de 4 millones      Más de 30 horas   \n",
              "3  Entre 4 millones y menos de 5.5 millones                    0   \n",
              "4  Entre 2.5 millones y menos de 4 millones  Entre 21 y 30 horas   \n",
              "\n",
              "  F_ESTRATOVIVIENDA F_TIENEINTERNET                    F_EDUCACIONPADRE  \\\n",
              "0         Estrato 3              Si    Técnica o tecnológica incompleta   \n",
              "1         Estrato 3              No      Técnica o tecnológica completa   \n",
              "2         Estrato 3              Si  Secundaria (Bachillerato) completa   \n",
              "3         Estrato 4              Si                             No sabe   \n",
              "4         Estrato 3              Si                   Primaria completa   \n",
              "\n",
              "  F_TIENELAVADORA  ... E_PRIVADO_LIBERTAD E_PAGOMATRICULAPROPIO  \\\n",
              "0              Si  ...                  N                    No   \n",
              "1              Si  ...                  N                    No   \n",
              "2              Si  ...                  N                    No   \n",
              "3              Si  ...                  N                    No   \n",
              "4              Si  ...                  N                    No   \n",
              "\n",
              "  F_TIENECOMPUTADOR F_TIENEINTERNET.1                    F_EDUCACIONMADRE  \\\n",
              "0                Si                Si                           Postgrado   \n",
              "1                Si                No    Técnica o tecnológica incompleta   \n",
              "2                No                Si  Secundaria (Bachillerato) completa   \n",
              "3                Si                Si  Secundaria (Bachillerato) completa   \n",
              "4                Si                Si                   Primaria completa   \n",
              "\n",
              "  RENDIMIENTO_GLOBAL INDICADOR_1  INDICADOR_2  INDICADOR_3  INDICADOR_4  \n",
              "0         medio-alto       0.322        0.208        0.310        0.267  \n",
              "1               bajo       0.311        0.215        0.292        0.264  \n",
              "2               bajo       0.297        0.214        0.305        0.264  \n",
              "3               alto       0.485        0.172        0.252        0.190  \n",
              "4         medio-bajo       0.316        0.232        0.285        0.294  \n",
              "\n",
              "[5 rows x 21 columns]"
            ],
            "text/html": [
              "\n",
              "  <div id=\"df-80f6c66d-e4d7-4104-947f-d62b1805e505\" class=\"colab-df-container\">\n",
              "    <div>\n",
              "<style scoped>\n",
              "    .dataframe tbody tr th:only-of-type {\n",
              "        vertical-align: middle;\n",
              "    }\n",
              "\n",
              "    .dataframe tbody tr th {\n",
              "        vertical-align: top;\n",
              "    }\n",
              "\n",
              "    .dataframe thead th {\n",
              "        text-align: right;\n",
              "    }\n",
              "</style>\n",
              "<table border=\"1\" class=\"dataframe\">\n",
              "  <thead>\n",
              "    <tr style=\"text-align: right;\">\n",
              "      <th></th>\n",
              "      <th>ID</th>\n",
              "      <th>PERIODO_ACADEMICO</th>\n",
              "      <th>E_PRGM_ACADEMICO</th>\n",
              "      <th>E_PRGM_DEPARTAMENTO</th>\n",
              "      <th>E_VALORMATRICULAUNIVERSIDAD</th>\n",
              "      <th>E_HORASSEMANATRABAJA</th>\n",
              "      <th>F_ESTRATOVIVIENDA</th>\n",
              "      <th>F_TIENEINTERNET</th>\n",
              "      <th>F_EDUCACIONPADRE</th>\n",
              "      <th>F_TIENELAVADORA</th>\n",
              "      <th>...</th>\n",
              "      <th>E_PRIVADO_LIBERTAD</th>\n",
              "      <th>E_PAGOMATRICULAPROPIO</th>\n",
              "      <th>F_TIENECOMPUTADOR</th>\n",
              "      <th>F_TIENEINTERNET.1</th>\n",
              "      <th>F_EDUCACIONMADRE</th>\n",
              "      <th>RENDIMIENTO_GLOBAL</th>\n",
              "      <th>INDICADOR_1</th>\n",
              "      <th>INDICADOR_2</th>\n",
              "      <th>INDICADOR_3</th>\n",
              "      <th>INDICADOR_4</th>\n",
              "    </tr>\n",
              "  </thead>\n",
              "  <tbody>\n",
              "    <tr>\n",
              "      <th>0</th>\n",
              "      <td>904256</td>\n",
              "      <td>20212</td>\n",
              "      <td>ENFERMERIA</td>\n",
              "      <td>BOGOTÁ</td>\n",
              "      <td>Entre 5.5 millones y menos de 7 millones</td>\n",
              "      <td>Menos de 10 horas</td>\n",
              "      <td>Estrato 3</td>\n",
              "      <td>Si</td>\n",
              "      <td>Técnica o tecnológica incompleta</td>\n",
              "      <td>Si</td>\n",
              "      <td>...</td>\n",
              "      <td>N</td>\n",
              "      <td>No</td>\n",
              "      <td>Si</td>\n",
              "      <td>Si</td>\n",
              "      <td>Postgrado</td>\n",
              "      <td>medio-alto</td>\n",
              "      <td>0.322</td>\n",
              "      <td>0.208</td>\n",
              "      <td>0.310</td>\n",
              "      <td>0.267</td>\n",
              "    </tr>\n",
              "    <tr>\n",
              "      <th>1</th>\n",
              "      <td>645256</td>\n",
              "      <td>20212</td>\n",
              "      <td>DERECHO</td>\n",
              "      <td>ATLANTICO</td>\n",
              "      <td>Entre 2.5 millones y menos de 4 millones</td>\n",
              "      <td>0</td>\n",
              "      <td>Estrato 3</td>\n",
              "      <td>No</td>\n",
              "      <td>Técnica o tecnológica completa</td>\n",
              "      <td>Si</td>\n",
              "      <td>...</td>\n",
              "      <td>N</td>\n",
              "      <td>No</td>\n",
              "      <td>Si</td>\n",
              "      <td>No</td>\n",
              "      <td>Técnica o tecnológica incompleta</td>\n",
              "      <td>bajo</td>\n",
              "      <td>0.311</td>\n",
              "      <td>0.215</td>\n",
              "      <td>0.292</td>\n",
              "      <td>0.264</td>\n",
              "    </tr>\n",
              "    <tr>\n",
              "      <th>2</th>\n",
              "      <td>308367</td>\n",
              "      <td>20203</td>\n",
              "      <td>MERCADEO Y PUBLICIDAD</td>\n",
              "      <td>BOGOTÁ</td>\n",
              "      <td>Entre 2.5 millones y menos de 4 millones</td>\n",
              "      <td>Más de 30 horas</td>\n",
              "      <td>Estrato 3</td>\n",
              "      <td>Si</td>\n",
              "      <td>Secundaria (Bachillerato) completa</td>\n",
              "      <td>Si</td>\n",
              "      <td>...</td>\n",
              "      <td>N</td>\n",
              "      <td>No</td>\n",
              "      <td>No</td>\n",
              "      <td>Si</td>\n",
              "      <td>Secundaria (Bachillerato) completa</td>\n",
              "      <td>bajo</td>\n",
              "      <td>0.297</td>\n",
              "      <td>0.214</td>\n",
              "      <td>0.305</td>\n",
              "      <td>0.264</td>\n",
              "    </tr>\n",
              "    <tr>\n",
              "      <th>3</th>\n",
              "      <td>470353</td>\n",
              "      <td>20195</td>\n",
              "      <td>ADMINISTRACION DE EMPRESAS</td>\n",
              "      <td>SANTANDER</td>\n",
              "      <td>Entre 4 millones y menos de 5.5 millones</td>\n",
              "      <td>0</td>\n",
              "      <td>Estrato 4</td>\n",
              "      <td>Si</td>\n",
              "      <td>No sabe</td>\n",
              "      <td>Si</td>\n",
              "      <td>...</td>\n",
              "      <td>N</td>\n",
              "      <td>No</td>\n",
              "      <td>Si</td>\n",
              "      <td>Si</td>\n",
              "      <td>Secundaria (Bachillerato) completa</td>\n",
              "      <td>alto</td>\n",
              "      <td>0.485</td>\n",
              "      <td>0.172</td>\n",
              "      <td>0.252</td>\n",
              "      <td>0.190</td>\n",
              "    </tr>\n",
              "    <tr>\n",
              "      <th>4</th>\n",
              "      <td>989032</td>\n",
              "      <td>20212</td>\n",
              "      <td>PSICOLOGIA</td>\n",
              "      <td>ANTIOQUIA</td>\n",
              "      <td>Entre 2.5 millones y menos de 4 millones</td>\n",
              "      <td>Entre 21 y 30 horas</td>\n",
              "      <td>Estrato 3</td>\n",
              "      <td>Si</td>\n",
              "      <td>Primaria completa</td>\n",
              "      <td>Si</td>\n",
              "      <td>...</td>\n",
              "      <td>N</td>\n",
              "      <td>No</td>\n",
              "      <td>Si</td>\n",
              "      <td>Si</td>\n",
              "      <td>Primaria completa</td>\n",
              "      <td>medio-bajo</td>\n",
              "      <td>0.316</td>\n",
              "      <td>0.232</td>\n",
              "      <td>0.285</td>\n",
              "      <td>0.294</td>\n",
              "    </tr>\n",
              "  </tbody>\n",
              "</table>\n",
              "<p>5 rows × 21 columns</p>\n",
              "</div>\n",
              "    <div class=\"colab-df-buttons\">\n",
              "\n",
              "  <div class=\"colab-df-container\">\n",
              "    <button class=\"colab-df-convert\" onclick=\"convertToInteractive('df-80f6c66d-e4d7-4104-947f-d62b1805e505')\"\n",
              "            title=\"Convert this dataframe to an interactive table.\"\n",
              "            style=\"display:none;\">\n",
              "\n",
              "  <svg xmlns=\"http://www.w3.org/2000/svg\" height=\"24px\" viewBox=\"0 -960 960 960\">\n",
              "    <path d=\"M120-120v-720h720v720H120Zm60-500h600v-160H180v160Zm220 220h160v-160H400v160Zm0 220h160v-160H400v160ZM180-400h160v-160H180v160Zm440 0h160v-160H620v160ZM180-180h160v-160H180v160Zm440 0h160v-160H620v160Z\"/>\n",
              "  </svg>\n",
              "    </button>\n",
              "\n",
              "  <style>\n",
              "    .colab-df-container {\n",
              "      display:flex;\n",
              "      gap: 12px;\n",
              "    }\n",
              "\n",
              "    .colab-df-convert {\n",
              "      background-color: #E8F0FE;\n",
              "      border: none;\n",
              "      border-radius: 50%;\n",
              "      cursor: pointer;\n",
              "      display: none;\n",
              "      fill: #1967D2;\n",
              "      height: 32px;\n",
              "      padding: 0 0 0 0;\n",
              "      width: 32px;\n",
              "    }\n",
              "\n",
              "    .colab-df-convert:hover {\n",
              "      background-color: #E2EBFA;\n",
              "      box-shadow: 0px 1px 2px rgba(60, 64, 67, 0.3), 0px 1px 3px 1px rgba(60, 64, 67, 0.15);\n",
              "      fill: #174EA6;\n",
              "    }\n",
              "\n",
              "    .colab-df-buttons div {\n",
              "      margin-bottom: 4px;\n",
              "    }\n",
              "\n",
              "    [theme=dark] .colab-df-convert {\n",
              "      background-color: #3B4455;\n",
              "      fill: #D2E3FC;\n",
              "    }\n",
              "\n",
              "    [theme=dark] .colab-df-convert:hover {\n",
              "      background-color: #434B5C;\n",
              "      box-shadow: 0px 1px 3px 1px rgba(0, 0, 0, 0.15);\n",
              "      filter: drop-shadow(0px 1px 2px rgba(0, 0, 0, 0.3));\n",
              "      fill: #FFFFFF;\n",
              "    }\n",
              "  </style>\n",
              "\n",
              "    <script>\n",
              "      const buttonEl =\n",
              "        document.querySelector('#df-80f6c66d-e4d7-4104-947f-d62b1805e505 button.colab-df-convert');\n",
              "      buttonEl.style.display =\n",
              "        google.colab.kernel.accessAllowed ? 'block' : 'none';\n",
              "\n",
              "      async function convertToInteractive(key) {\n",
              "        const element = document.querySelector('#df-80f6c66d-e4d7-4104-947f-d62b1805e505');\n",
              "        const dataTable =\n",
              "          await google.colab.kernel.invokeFunction('convertToInteractive',\n",
              "                                                    [key], {});\n",
              "        if (!dataTable) return;\n",
              "\n",
              "        const docLinkHtml = 'Like what you see? Visit the ' +\n",
              "          '<a target=\"_blank\" href=https://colab.research.google.com/notebooks/data_table.ipynb>data table notebook</a>'\n",
              "          + ' to learn more about interactive tables.';\n",
              "        element.innerHTML = '';\n",
              "        dataTable['output_type'] = 'display_data';\n",
              "        await google.colab.output.renderOutput(dataTable, element);\n",
              "        const docLink = document.createElement('div');\n",
              "        docLink.innerHTML = docLinkHtml;\n",
              "        element.appendChild(docLink);\n",
              "      }\n",
              "    </script>\n",
              "  </div>\n",
              "\n",
              "\n",
              "    <div id=\"df-9b9454d7-da6b-4b75-b6fd-222ca78bc97e\">\n",
              "      <button class=\"colab-df-quickchart\" onclick=\"quickchart('df-9b9454d7-da6b-4b75-b6fd-222ca78bc97e')\"\n",
              "                title=\"Suggest charts\"\n",
              "                style=\"display:none;\">\n",
              "\n",
              "<svg xmlns=\"http://www.w3.org/2000/svg\" height=\"24px\"viewBox=\"0 0 24 24\"\n",
              "     width=\"24px\">\n",
              "    <g>\n",
              "        <path d=\"M19 3H5c-1.1 0-2 .9-2 2v14c0 1.1.9 2 2 2h14c1.1 0 2-.9 2-2V5c0-1.1-.9-2-2-2zM9 17H7v-7h2v7zm4 0h-2V7h2v10zm4 0h-2v-4h2v4z\"/>\n",
              "    </g>\n",
              "</svg>\n",
              "      </button>\n",
              "\n",
              "<style>\n",
              "  .colab-df-quickchart {\n",
              "      --bg-color: #E8F0FE;\n",
              "      --fill-color: #1967D2;\n",
              "      --hover-bg-color: #E2EBFA;\n",
              "      --hover-fill-color: #174EA6;\n",
              "      --disabled-fill-color: #AAA;\n",
              "      --disabled-bg-color: #DDD;\n",
              "  }\n",
              "\n",
              "  [theme=dark] .colab-df-quickchart {\n",
              "      --bg-color: #3B4455;\n",
              "      --fill-color: #D2E3FC;\n",
              "      --hover-bg-color: #434B5C;\n",
              "      --hover-fill-color: #FFFFFF;\n",
              "      --disabled-bg-color: #3B4455;\n",
              "      --disabled-fill-color: #666;\n",
              "  }\n",
              "\n",
              "  .colab-df-quickchart {\n",
              "    background-color: var(--bg-color);\n",
              "    border: none;\n",
              "    border-radius: 50%;\n",
              "    cursor: pointer;\n",
              "    display: none;\n",
              "    fill: var(--fill-color);\n",
              "    height: 32px;\n",
              "    padding: 0;\n",
              "    width: 32px;\n",
              "  }\n",
              "\n",
              "  .colab-df-quickchart:hover {\n",
              "    background-color: var(--hover-bg-color);\n",
              "    box-shadow: 0 1px 2px rgba(60, 64, 67, 0.3), 0 1px 3px 1px rgba(60, 64, 67, 0.15);\n",
              "    fill: var(--button-hover-fill-color);\n",
              "  }\n",
              "\n",
              "  .colab-df-quickchart-complete:disabled,\n",
              "  .colab-df-quickchart-complete:disabled:hover {\n",
              "    background-color: var(--disabled-bg-color);\n",
              "    fill: var(--disabled-fill-color);\n",
              "    box-shadow: none;\n",
              "  }\n",
              "\n",
              "  .colab-df-spinner {\n",
              "    border: 2px solid var(--fill-color);\n",
              "    border-color: transparent;\n",
              "    border-bottom-color: var(--fill-color);\n",
              "    animation:\n",
              "      spin 1s steps(1) infinite;\n",
              "  }\n",
              "\n",
              "  @keyframes spin {\n",
              "    0% {\n",
              "      border-color: transparent;\n",
              "      border-bottom-color: var(--fill-color);\n",
              "      border-left-color: var(--fill-color);\n",
              "    }\n",
              "    20% {\n",
              "      border-color: transparent;\n",
              "      border-left-color: var(--fill-color);\n",
              "      border-top-color: var(--fill-color);\n",
              "    }\n",
              "    30% {\n",
              "      border-color: transparent;\n",
              "      border-left-color: var(--fill-color);\n",
              "      border-top-color: var(--fill-color);\n",
              "      border-right-color: var(--fill-color);\n",
              "    }\n",
              "    40% {\n",
              "      border-color: transparent;\n",
              "      border-right-color: var(--fill-color);\n",
              "      border-top-color: var(--fill-color);\n",
              "    }\n",
              "    60% {\n",
              "      border-color: transparent;\n",
              "      border-right-color: var(--fill-color);\n",
              "    }\n",
              "    80% {\n",
              "      border-color: transparent;\n",
              "      border-right-color: var(--fill-color);\n",
              "      border-bottom-color: var(--fill-color);\n",
              "    }\n",
              "    90% {\n",
              "      border-color: transparent;\n",
              "      border-bottom-color: var(--fill-color);\n",
              "    }\n",
              "  }\n",
              "</style>\n",
              "\n",
              "      <script>\n",
              "        async function quickchart(key) {\n",
              "          const quickchartButtonEl =\n",
              "            document.querySelector('#' + key + ' button');\n",
              "          quickchartButtonEl.disabled = true;  // To prevent multiple clicks.\n",
              "          quickchartButtonEl.classList.add('colab-df-spinner');\n",
              "          try {\n",
              "            const charts = await google.colab.kernel.invokeFunction(\n",
              "                'suggestCharts', [key], {});\n",
              "          } catch (error) {\n",
              "            console.error('Error during call to suggestCharts:', error);\n",
              "          }\n",
              "          quickchartButtonEl.classList.remove('colab-df-spinner');\n",
              "          quickchartButtonEl.classList.add('colab-df-quickchart-complete');\n",
              "        }\n",
              "        (() => {\n",
              "          let quickchartButtonEl =\n",
              "            document.querySelector('#df-9b9454d7-da6b-4b75-b6fd-222ca78bc97e button');\n",
              "          quickchartButtonEl.style.display =\n",
              "            google.colab.kernel.accessAllowed ? 'block' : 'none';\n",
              "        })();\n",
              "      </script>\n",
              "    </div>\n",
              "\n",
              "    </div>\n",
              "  </div>\n"
            ],
            "application/vnd.google.colaboratory.intrinsic+json": {
              "type": "dataframe",
              "variable_name": "train"
            }
          },
          "metadata": {},
          "execution_count": 4
        }
      ]
    },
    {
      "cell_type": "markdown",
      "source": [
        "### Promedio del indicador 1 por periodo academico\n"
      ],
      "metadata": {
        "id": "uGcumXd7IrU6"
      }
    },
    {
      "cell_type": "code",
      "source": [
        "c = train.groupby(\"PERIODO_ACADEMICO\")[\"INDICADOR_1\"].mean()\n",
        "print(c)\n"
      ],
      "metadata": {
        "colab": {
          "base_uri": "https://localhost:8080/"
        },
        "id": "tn9953pvBAv9",
        "outputId": "687b50d3-ede9-4caf-9222-e6ada9e050b1"
      },
      "execution_count": 5,
      "outputs": [
        {
          "output_type": "stream",
          "name": "stdout",
          "text": [
            "PERIODO_ACADEMICO\n",
            "20183    0.268064\n",
            "20184    0.293543\n",
            "20194    0.332592\n",
            "20195    0.267611\n",
            "20196    0.303994\n",
            "20202    0.331786\n",
            "20203    0.272775\n",
            "20212    0.264736\n",
            "20213    0.349270\n",
            "Name: INDICADOR_1, dtype: float64\n"
          ]
        }
      ]
    },
    {
      "cell_type": "markdown",
      "source": [
        "### Estudiantes que viven en bogotá"
      ],
      "metadata": {
        "id": "zoONzHfSIdBz"
      }
    },
    {
      "cell_type": "code",
      "source": [
        "f = (train['E_PRGM_DEPARTAMENTO']==\"BOGOTÁ\").sum()\n",
        "print(f\"la cantidad de estudiantes que viven en bogota es {f}\")"
      ],
      "metadata": {
        "colab": {
          "base_uri": "https://localhost:8080/"
        },
        "id": "QNvS67kWCyW3",
        "outputId": "40b2a315-1904-4c49-8470-b2dda32e07eb"
      },
      "execution_count": 6,
      "outputs": [
        {
          "output_type": "stream",
          "name": "stdout",
          "text": [
            "la cantidad de estudiantes que viven en bogota es 282159\n"
          ]
        }
      ]
    },
    {
      "cell_type": "markdown",
      "source": [
        "### Estudiantes que hay por departamento"
      ],
      "metadata": {
        "id": "d99IFBRkIYqA"
      }
    },
    {
      "cell_type": "code",
      "source": [
        "print(train[\"E_PRGM_DEPARTAMENTO\"].value_counts())\n"
      ],
      "metadata": {
        "colab": {
          "base_uri": "https://localhost:8080/"
        },
        "id": "qjk4rRE_HYZ9",
        "outputId": "5dcd5e0f-4865-4861-a6a2-0fec96decf5e"
      },
      "execution_count": 7,
      "outputs": [
        {
          "output_type": "stream",
          "name": "stdout",
          "text": [
            "E_PRGM_DEPARTAMENTO\n",
            "BOGOTÁ             282159\n",
            "ANTIOQUIA           83607\n",
            "VALLE               44588\n",
            "ATLANTICO           41020\n",
            "SANTANDER           28828\n",
            "NORTE SANTANDER     22588\n",
            "BOLIVAR             20629\n",
            "BOYACA              14048\n",
            "CUNDINAMARCA        14018\n",
            "NARIÑO              13454\n",
            "RISARALDA           12679\n",
            "CORDOBA             12188\n",
            "TOLIMA              11921\n",
            "CALDAS              11640\n",
            "CAUCA               11471\n",
            "HUILA                9995\n",
            "MAGDALENA            9512\n",
            "SUCRE                8674\n",
            "CESAR                8279\n",
            "QUINDIO              8229\n",
            "META                 7910\n",
            "LA GUAJIRA           4778\n",
            "CHOCO                4289\n",
            "CAQUETA              2659\n",
            "CASANARE             1852\n",
            "PUTUMAYO              795\n",
            "ARAUCA                589\n",
            "AMAZONAS               40\n",
            "GUAVIARE               37\n",
            "VAUPES                 14\n",
            "SAN ANDRES             10\n",
            "Name: count, dtype: int64\n"
          ]
        }
      ]
    },
    {
      "cell_type": "markdown",
      "source": [
        "### Top 5 programas académicos con más estudiantes\n"
      ],
      "metadata": {
        "id": "G54jJe9WHltS"
      }
    },
    {
      "cell_type": "code",
      "source": [
        "print(train[\"E_PRGM_ACADEMICO\"].value_counts().head(5))"
      ],
      "metadata": {
        "colab": {
          "base_uri": "https://localhost:8080/"
        },
        "id": "dUdwCCw3Hm54",
        "outputId": "918212b0-c52d-4395-bdfe-84ff0fcc3db9"
      },
      "execution_count": 8,
      "outputs": [
        {
          "output_type": "stream",
          "name": "stdout",
          "text": [
            "E_PRGM_ACADEMICO\n",
            "DERECHO                       53244\n",
            "ADMINISTRACION DE EMPRESAS    51902\n",
            "CONTADURIA PUBLICA            39664\n",
            "PSICOLOGIA                    31932\n",
            "INGENIERIA INDUSTRIAL         28481\n",
            "Name: count, dtype: int64\n"
          ]
        }
      ]
    }
  ]
}